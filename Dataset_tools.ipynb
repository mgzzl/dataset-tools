{
  "nbformat": 4,
  "nbformat_minor": 0,
  "metadata": {
    "colab": {
      "provenance": [],
      "authorship_tag": "ABX9TyOFPz0bAUihWo7IFxqG6CtS",
      "include_colab_link": true
    },
    "kernelspec": {
      "name": "python3",
      "display_name": "Python 3"
    },
    "language_info": {
      "name": "python"
    }
  },
  "cells": [
    {
      "cell_type": "markdown",
      "metadata": {
        "id": "view-in-github",
        "colab_type": "text"
      },
      "source": [
        "<a href=\"https://colab.research.google.com/github/mgzzl/dataset-tools/blob/main/Dataset_tools.ipynb\" target=\"_parent\"><img src=\"https://colab.research.google.com/assets/colab-badge.svg\" alt=\"Open In Colab\"/></a>"
      ]
    },
    {
      "cell_type": "markdown",
      "source": [
        "# Dataset Tools\n",
        "\n",
        "This is a basic notebook to test and execute https://github.com/mgzzl/dataset-tools scripts "
      ],
      "metadata": {
        "id": "3R79PC0vPCGE"
      }
    },
    {
      "cell_type": "code",
      "execution_count": 1,
      "metadata": {
        "colab": {
          "base_uri": "https://localhost:8080/"
        },
        "id": "1tVTrpCsPBVW",
        "outputId": "49564994-ce05-4ed6-b993-215efc568057"
      },
      "outputs": [
        {
          "output_type": "stream",
          "name": "stdout",
          "text": [
            "Cloning into 'dataset-tools'...\n",
            "remote: Enumerating objects: 488, done.\u001b[K\n",
            "remote: Counting objects: 100% (165/165), done.\u001b[K\n",
            "remote: Compressing objects: 100% (51/51), done.\u001b[K\n",
            "remote: Total 488 (delta 132), reused 126 (delta 114), pack-reused 323\u001b[K\n",
            "Receiving objects: 100% (488/488), 700.24 KiB | 12.97 MiB/s, done.\n",
            "Resolving deltas: 100% (277/277), done.\n",
            "/content/dataset-tools\n",
            "Looking in indexes: https://pypi.org/simple, https://us-python.pkg.dev/colab-wheels/public/simple/\n",
            "Requirement already satisfied: numpy>=1.7.0 in /usr/local/lib/python3.8/dist-packages (from -r requirements.txt (line 1)) (1.21.6)\n",
            "Requirement already satisfied: imutils in /usr/local/lib/python3.8/dist-packages (from -r requirements.txt (line 2)) (0.5.4)\n",
            "Requirement already satisfied: opencv-python>=4.1.0.25 in /usr/local/lib/python3.8/dist-packages (from -r requirements.txt (line 3)) (4.6.0.66)\n",
            "Requirement already satisfied: scipy in /usr/local/lib/python3.8/dist-packages (from -r requirements.txt (line 4)) (1.7.3)\n",
            "Collecting mac-tag\n",
            "  Downloading mac-tag-2020.12.3.tar.gz (1.9 kB)\n",
            "  Preparing metadata (setup.py) ... \u001b[?25l\u001b[?25hdone\n",
            "Collecting psd-tools3\n",
            "  Downloading psd-tools3-1.9.2.tar.gz (73 kB)\n",
            "\u001b[2K     \u001b[90m━━━━━━━━━━━━━━━━━━━━━━━━━━━━━━━━━━━━━━━━\u001b[0m \u001b[32m73.1/73.1 KB\u001b[0m \u001b[31m3.3 MB/s\u001b[0m eta \u001b[36m0:00:00\u001b[0m\n",
            "\u001b[?25h  \u001b[1;31merror\u001b[0m: \u001b[1msubprocess-exited-with-error\u001b[0m\n",
            "  \n",
            "  \u001b[31m×\u001b[0m \u001b[32mpython setup.py egg_info\u001b[0m did not run successfully.\n",
            "  \u001b[31m│\u001b[0m exit code: \u001b[1;36m1\u001b[0m\n",
            "  \u001b[31m╰─>\u001b[0m See above for output.\n",
            "  \n",
            "  \u001b[1;35mnote\u001b[0m: This error originates from a subprocess, and is likely not a problem with pip.\n",
            "  Preparing metadata (setup.py) ... \u001b[?25l\u001b[?25herror\n",
            "\u001b[1;31merror\u001b[0m: \u001b[1mmetadata-generation-failed\u001b[0m\n",
            "\n",
            "\u001b[31m×\u001b[0m Encountered error while generating package metadata.\n",
            "\u001b[31m╰─>\u001b[0m See above for output.\n",
            "\n",
            "\u001b[1;35mnote\u001b[0m: This is an issue with the package mentioned above, not pip.\n",
            "\u001b[1;36mhint\u001b[0m: See above for details.\n"
          ]
        }
      ],
      "source": [
        "!git clone https://github.com/mgzzl/dataset-tools.git\n",
        "%cd dataset-tools\n",
        "!pip install -r requirements.txt"
      ]
    },
    {
      "cell_type": "code",
      "source": [
        "!python dataset-tools.py -h"
      ],
      "metadata": {
        "id": "eXfizWFXPooR"
      },
      "execution_count": null,
      "outputs": []
    },
    {
      "cell_type": "code",
      "source": [
        "!python ImageProcessor.py -h"
      ],
      "metadata": {
        "colab": {
          "base_uri": "https://localhost:8080/"
        },
        "id": "Xc0-7uCAP27E",
        "outputId": "8ed23453-c257-4b46-9fc0-980b8f0bc377"
      },
      "execution_count": 4,
      "outputs": [
        {
          "output_type": "stream",
          "name": "stdout",
          "text": [
            "usage: ImageProcessor.py\n",
            "       [-h]\n",
            "       -i\n",
            "       INPUT\n",
            "       -d\n",
            "       DIMENSION\n",
            "       -s\n",
            "       SIZE\n",
            "       -o\n",
            "       OUTPUT\n",
            "\n",
            "optional arguments:\n",
            "  -h, --help\n",
            "    show this\n",
            "    help\n",
            "    message and\n",
            "    exit\n",
            "  -i INPUT, --input INPUT\n",
            "    Input\n",
            "    directory\n",
            "    path\n",
            "  -d DIMENSION, --dimension DIMENSION\n",
            "    Dimension (\n",
            "    height/widt\n",
            "    h) to\n",
            "    resize and\n",
            "    crop the\n",
            "    images\n",
            "  -s SIZE, --size SIZE\n",
            "    Size to\n",
            "    resize and\n",
            "    crop the\n",
            "    images\n",
            "  -o OUTPUT, --output OUTPUT\n",
            "    Output\n",
            "    directory\n",
            "    path to\n",
            "    save the\n",
            "    processed\n",
            "    images\n"
          ]
        }
      ]
    },
    {
      "cell_type": "code",
      "source": [
        "!python sort_images.py -h"
      ],
      "metadata": {
        "colab": {
          "base_uri": "https://localhost:8080/"
        },
        "id": "Oq0oygQ1Qod3",
        "outputId": "fb779046-7423-449d-fbfe-8bc846337814"
      },
      "execution_count": 5,
      "outputs": [
        {
          "output_type": "stream",
          "name": "stdout",
          "text": [
            "usage: sort_images.py\n",
            "       [-h]\n",
            "       -i\n",
            "       INPUT_DIRECTORY\n",
            "       [-o OUTPUT_DIRECTORY]\n",
            "\n",
            "optional arguments:\n",
            "  -h, --help\n",
            "    show this\n",
            "    help\n",
            "    message and\n",
            "    exit\n",
            "  -i INPUT_DIRECTORY, --input_directory INPUT_DIRECTORY\n",
            "    Directory\n",
            "    containing\n",
            "    the images\n",
            "    to sort\n",
            "  -o OUTPUT_DIRECTORY, --output_directory OUTPUT_DIRECTORY\n",
            "    Directory\n",
            "    where the\n",
            "    sorted\n",
            "    images\n",
            "    should be\n",
            "    saved.\n",
            "    Directory\n",
            "    will be\n",
            "    created if\n",
            "    not exist.\n",
            "    default: in\n",
            "    put_directo\n",
            "    ry\n"
          ]
        }
      ]
    },
    {
      "cell_type": "code",
      "source": [
        "# First sort Images into landscape, square and portrait\n",
        "from sort_images import ImageSorter\n",
        "import os\n",
        "\n",
        "root_input_dir=\"/content/root\"\n",
        "root_output_dir=\"/content/output\"\n",
        "\n",
        "# get all subdirs of root_dir\n",
        "subdirs = [os.path.join(root_input_dir, subdir) for subdir in os.listdir(root_input_dir) if not subdir.startswith('.')]\n",
        "\n",
        "output_subdirs = [os.path.join(root_output_dir, subdir) for subdir in os.listdir(root_input_dir) if not subdir.startswith('.')]\n",
        "# Use the os.listdir() method to list the files in the directory\n",
        "#for subdir in os.listdir(root_input_dir):\n",
        " #   print(subdir)\n",
        "  #  if not subdir.startswith('.'):     \n",
        "   #   subdirs.append(os.path.join(root_input_dir, subdir))\n",
        "print(subdirs)\n",
        "print(output_subdirs)\n",
        "    # Use the os.path.join() method to create the full path to the file\n",
        " #   file_path = os.path.join(input_dir, file)\n",
        "\n",
        "    # Use the os.path.isfile() method to check if the file is a regular file (not a directory)\n",
        "    # if os.path.isfile(file_path) and (file_path.endswith('.jpg') or file_path.endswith('.png')):\n",
        "      #  images.append(file_path)\n",
        "#image_sorter = ImageSorter(input_dir, output_dir)\n",
        "#image_sorter.sort_images()"
      ],
      "metadata": {
        "colab": {
          "base_uri": "https://localhost:8080/"
        },
        "id": "EUCKycLKQ8Vk",
        "outputId": "27227c49-09e8-44a2-8f39-d7c93346c2c8"
      },
      "execution_count": 17,
      "outputs": [
        {
          "output_type": "stream",
          "name": "stdout",
          "text": [
            "['/content/root/2', '/content/root/3', '/content/root/1']\n",
            "['/content/output/2', '/content/output/3', '/content/output/1']\n"
          ]
        }
      ]
    },
    {
      "cell_type": "code",
      "source": [
        "# remove landscapes and modify portraits\n"
      ],
      "metadata": {
        "id": "8Y9rBWX9SBqB"
      },
      "execution_count": null,
      "outputs": []
    }
  ]
}