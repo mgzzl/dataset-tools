{
  "nbformat": 4,
  "nbformat_minor": 0,
  "metadata": {
    "colab": {
      "provenance": [],
      "authorship_tag": "ABX9TyNzjqgtgprBLtQuLE/uyFvs",
      "include_colab_link": true
    },
    "kernelspec": {
      "name": "python3",
      "display_name": "Python 3"
    },
    "language_info": {
      "name": "python"
    }
  },
  "cells": [
    {
      "cell_type": "markdown",
      "metadata": {
        "id": "view-in-github",
        "colab_type": "text"
      },
      "source": [
        "<a href=\"https://colab.research.google.com/github/mgzzl/dataset-tools/blob/main/Dataset_tools.ipynb\" target=\"_parent\"><img src=\"https://colab.research.google.com/assets/colab-badge.svg\" alt=\"Open In Colab\"/></a>"
      ]
    },
    {
      "cell_type": "markdown",
      "source": [
        "# Dataset Tools\n",
        "\n",
        "This is a basic notebook to test and execute https://github.com/mgzzl/dataset-tools scripts "
      ],
      "metadata": {
        "id": "3R79PC0vPCGE"
      }
    },
    {
      "cell_type": "code",
      "execution_count": 5,
      "metadata": {
        "colab": {
          "base_uri": "https://localhost:8080/"
        },
        "id": "1tVTrpCsPBVW",
        "outputId": "9c5b5b42-2d5b-41c3-ab6d-8462642d9024"
      },
      "outputs": [
        {
          "output_type": "stream",
          "name": "stdout",
          "text": [
            "fatal: destination path 'dataset-tools' already exists and is not an empty directory.\n",
            "/content/dataset-tools\n",
            "Looking in indexes: https://pypi.org/simple, https://us-python.pkg.dev/colab-wheels/public/simple/\n",
            "Requirement already satisfied: numpy>=1.7.0 in /usr/local/lib/python3.8/dist-packages (from -r requirements.txt (line 1)) (1.21.6)\n",
            "Requirement already satisfied: imutils in /usr/local/lib/python3.8/dist-packages (from -r requirements.txt (line 2)) (0.5.4)\n",
            "Requirement already satisfied: opencv-python>=4.1.0.25 in /usr/local/lib/python3.8/dist-packages (from -r requirements.txt (line 3)) (4.6.0.66)\n",
            "Requirement already satisfied: scipy in /usr/local/lib/python3.8/dist-packages (from -r requirements.txt (line 4)) (1.7.3)\n",
            "Collecting mac-tag\n",
            "  Using cached mac-tag-2020.12.3.tar.gz (1.9 kB)\n",
            "  Preparing metadata (setup.py) ... \u001b[?25l\u001b[?25hdone\n",
            "Collecting psd-tools3\n",
            "  Using cached psd-tools3-1.9.2.tar.gz (73 kB)\n",
            "  \u001b[1;31merror\u001b[0m: \u001b[1msubprocess-exited-with-error\u001b[0m\n",
            "  \n",
            "  \u001b[31m×\u001b[0m \u001b[32mpython setup.py egg_info\u001b[0m did not run successfully.\n",
            "  \u001b[31m│\u001b[0m exit code: \u001b[1;36m1\u001b[0m\n",
            "  \u001b[31m╰─>\u001b[0m See above for output.\n",
            "  \n",
            "  \u001b[1;35mnote\u001b[0m: This error originates from a subprocess, and is likely not a problem with pip.\n",
            "  Preparing metadata (setup.py) ... \u001b[?25l\u001b[?25herror\n",
            "\u001b[1;31merror\u001b[0m: \u001b[1mmetadata-generation-failed\u001b[0m\n",
            "\n",
            "\u001b[31m×\u001b[0m Encountered error while generating package metadata.\n",
            "\u001b[31m╰─>\u001b[0m See above for output.\n",
            "\n",
            "\u001b[1;35mnote\u001b[0m: This is an issue with the package mentioned above, not pip.\n",
            "\u001b[1;36mhint\u001b[0m: See above for details.\n"
          ]
        }
      ],
      "source": [
        "!git clone https://github.com/mgzzl/dataset-tools.git\n",
        "%cd dataset-tools\n",
        "!pip install -r requirements.txt"
      ]
    },
    {
      "cell_type": "code",
      "source": [
        "!python dataset-tools.py -h"
      ],
      "metadata": {
        "id": "eXfizWFXPooR"
      },
      "execution_count": null,
      "outputs": []
    },
    {
      "cell_type": "code",
      "source": [
        "!python ImageProcessor.py -h"
      ],
      "metadata": {
        "colab": {
          "base_uri": "https://localhost:8080/"
        },
        "id": "Xc0-7uCAP27E",
        "outputId": "8ed23453-c257-4b46-9fc0-980b8f0bc377"
      },
      "execution_count": null,
      "outputs": [
        {
          "output_type": "stream",
          "name": "stdout",
          "text": [
            "usage: ImageProcessor.py\n",
            "       [-h]\n",
            "       -i\n",
            "       INPUT\n",
            "       -d\n",
            "       DIMENSION\n",
            "       -s\n",
            "       SIZE\n",
            "       -o\n",
            "       OUTPUT\n",
            "\n",
            "optional arguments:\n",
            "  -h, --help\n",
            "    show this\n",
            "    help\n",
            "    message and\n",
            "    exit\n",
            "  -i INPUT, --input INPUT\n",
            "    Input\n",
            "    directory\n",
            "    path\n",
            "  -d DIMENSION, --dimension DIMENSION\n",
            "    Dimension (\n",
            "    height/widt\n",
            "    h) to\n",
            "    resize and\n",
            "    crop the\n",
            "    images\n",
            "  -s SIZE, --size SIZE\n",
            "    Size to\n",
            "    resize and\n",
            "    crop the\n",
            "    images\n",
            "  -o OUTPUT, --output OUTPUT\n",
            "    Output\n",
            "    directory\n",
            "    path to\n",
            "    save the\n",
            "    processed\n",
            "    images\n"
          ]
        }
      ]
    },
    {
      "cell_type": "code",
      "source": [
        "!python sort_images.py -h"
      ],
      "metadata": {
        "colab": {
          "base_uri": "https://localhost:8080/"
        },
        "id": "Oq0oygQ1Qod3",
        "outputId": "fb779046-7423-449d-fbfe-8bc846337814"
      },
      "execution_count": null,
      "outputs": [
        {
          "output_type": "stream",
          "name": "stdout",
          "text": [
            "usage: sort_images.py\n",
            "       [-h]\n",
            "       -i\n",
            "       INPUT_DIRECTORY\n",
            "       [-o OUTPUT_DIRECTORY]\n",
            "\n",
            "optional arguments:\n",
            "  -h, --help\n",
            "    show this\n",
            "    help\n",
            "    message and\n",
            "    exit\n",
            "  -i INPUT_DIRECTORY, --input_directory INPUT_DIRECTORY\n",
            "    Directory\n",
            "    containing\n",
            "    the images\n",
            "    to sort\n",
            "  -o OUTPUT_DIRECTORY, --output_directory OUTPUT_DIRECTORY\n",
            "    Directory\n",
            "    where the\n",
            "    sorted\n",
            "    images\n",
            "    should be\n",
            "    saved.\n",
            "    Directory\n",
            "    will be\n",
            "    created if\n",
            "    not exist.\n",
            "    default: in\n",
            "    put_directo\n",
            "    ry\n"
          ]
        }
      ]
    },
    {
      "cell_type": "code",
      "source": [
        "import os\n",
        "root_input_dir=\"/content/root\"\n",
        "root_output_dir=\"/content/output\"\n",
        "sub_dirs = [\"1\", \"2\", \"3\"]\n",
        "\n",
        "if not os.path.exists(root_input_dir):\n",
        "  os.mkdir(root_input_dir)\n",
        "  for sub in sub_dirs:\n",
        "    if not os.path.exists(os.path.join(root_input_dir, sub)):\n",
        "      os.mkdir(os.path.join(root_input_dir, sub))\n",
        "\n",
        "if not os.path.exists(root_output_dir):\n",
        "  os.mkdir(root_output_dir)"
      ],
      "metadata": {
        "id": "homBLVW_gUXh"
      },
      "execution_count": 2,
      "outputs": []
    },
    {
      "cell_type": "code",
      "source": [
        "# First sort Images into landscape, square and portrait\n",
        "from sort_images import ImageSorter\n",
        "from ImageProcessor import ImageProcessor\n",
        "import os\n",
        "\n",
        "\n",
        "# get all subdirs of root_dir\n",
        "subdirs = [os.path.join(root_input_dir, subdir) for subdir in os.listdir(root_input_dir) if not subdir.startswith('.')]\n",
        "\n",
        "# create same subdirs in output_root_dir\n",
        "output_subdirs = [os.path.join(root_output_dir, subdir) for subdir in os.listdir(root_input_dir) if not subdir.startswith('.')]\n",
        "\n",
        "for out_sub, input_sub in zip(output_subdirs, subdirs):\n",
        "  if not os.path.exists(out_sub):\n",
        "    os.mkdir(out_sub)\n",
        "  # sort images by ratio\n",
        "  image_sorter = ImageSorter(input_sub,out_sub)\n",
        "  image_sorter.sort_images()\n",
        "  ratio_dirs = [os.path.join(out_sub, ratio_dir) for ratio_dir in os.listdir(out_sub) if not ratio_dir.startswith('.')]\n",
        "  for ratio_dir in ratio_dirs:\n",
        "    imgs = ImageProcessor.get_images(ratio_dir)\n",
        "    print(imgs)\n",
        "  print(input_sub, out_sub)\n"
      ],
      "metadata": {
        "colab": {
          "base_uri": "https://localhost:8080/"
        },
        "id": "EUCKycLKQ8Vk",
        "outputId": "f5b0d08f-43d8-4124-dba8-7a924e56ad92"
      },
      "execution_count": 12,
      "outputs": [
        {
          "output_type": "stream",
          "name": "stdout",
          "text": [
            "/content/root/2 /content/output/2\n",
            "/content/root/3 /content/output/3\n",
            "/content/root/1 /content/output/1\n"
          ]
        }
      ]
    }
  ]
}