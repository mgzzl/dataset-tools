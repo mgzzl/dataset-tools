{
  "nbformat": 4,
  "nbformat_minor": 0,
  "metadata": {
    "colab": {
      "provenance": [],
      "authorship_tag": "ABX9TyOnQzPWpcV9O3J4y1bl50F5",
      "include_colab_link": true
    },
    "kernelspec": {
      "name": "python3",
      "display_name": "Python 3"
    },
    "language_info": {
      "name": "python"
    }
  },
  "cells": [
    {
      "cell_type": "markdown",
      "metadata": {
        "id": "view-in-github",
        "colab_type": "text"
      },
      "source": [
        "<a href=\"https://colab.research.google.com/github/mgzzl/dataset-tools/blob/main/Dataset_tools.ipynb\" target=\"_parent\"><img src=\"https://colab.research.google.com/assets/colab-badge.svg\" alt=\"Open In Colab\"/></a>"
      ]
    },
    {
      "cell_type": "markdown",
      "source": [
        "# Dataset Tools\n",
        "\n",
        "This is a basic notebook to test and execute https://github.com/mgzzl/dataset-tools scripts "
      ],
      "metadata": {
        "id": "3R79PC0vPCGE"
      }
    },
    {
      "cell_type": "code",
      "execution_count": null,
      "metadata": {
        "id": "1tVTrpCsPBVW"
      },
      "outputs": [],
      "source": [
        "!git clone https://github.com/mgzzl/dataset-tools.git\n",
        "%cd dataset-tools\n",
        "!pip install -r requirements.txt\n",
        "!pip install matplotlib"
      ]
    },
    {
      "cell_type": "code",
      "source": [
        "!python dataset-tools.py -h"
      ],
      "metadata": {
        "id": "eXfizWFXPooR"
      },
      "execution_count": null,
      "outputs": []
    },
    {
      "cell_type": "code",
      "source": [
        "!python ImageProcessor.py -h"
      ],
      "metadata": {
        "id": "Xc0-7uCAP27E"
      },
      "execution_count": null,
      "outputs": []
    },
    {
      "cell_type": "code",
      "source": [
        "!python sort_images.py -h"
      ],
      "metadata": {
        "id": "Oq0oygQ1Qod3",
        "collapsed": true
      },
      "execution_count": null,
      "outputs": []
    },
    {
      "cell_type": "code",
      "source": [
        "# create test directories\n",
        "import os\n",
        "root_input_dir=\"/content/root\"\n",
        "root_output_dir=\"/content/output\"\n",
        "sub_dirs = [\"1\", \"2\", \"3\"]\n",
        "\n",
        "if not os.path.exists(root_input_dir):\n",
        "  os.mkdir(root_input_dir)\n",
        "  for sub in sub_dirs:\n",
        "    if not os.path.exists(os.path.join(root_input_dir, sub)):\n",
        "      os.mkdir(os.path.join(root_input_dir, sub))\n",
        "\n",
        "if not os.path.exists(root_output_dir):\n",
        "  os.mkdir(root_output_dir)"
      ],
      "metadata": {
        "id": "homBLVW_gUXh"
      },
      "execution_count": null,
      "outputs": []
    },
    {
      "cell_type": "code",
      "source": [
        "import os\n",
        "import random\n",
        "import shutil\n",
        "import cv2\n",
        "\n",
        "def square_format_image(image, size):\n",
        "    original_height, original_width, _ = image.shape\n",
        "    background_color = [255, 255, 255, 0]\n",
        "    square_image = np.zeros((max(original_width, original_height), max(original_width, original_height), 3), dtype=np.uint8)\n",
        "    square_image[(square_image.shape[0] - original_height) // 2:(square_image.shape[0] + original_height) // 2,\n",
        "                 (square_image.shape[1] - original_width) // 2:(square_image.shape[1] + original_width) // 2, :] = image\n",
        "    square_image = cv2.resize(square_image, (size, size), interpolation=cv2.INTER_AREA)\n",
        "    return square_image\n",
        "\n",
        "def copy_images(root_dir, output_dir, n_images, size):\n",
        "    # Create the same subfolders in the output directory as in the root directory\n",
        "    if not os.path.exists(output_dir):\n",
        "        os.makedirs(output_dir)\n",
        "\n",
        "    subdirs = [x[0] for x in os.walk(root_dir)][1:]\n",
        "    image_counts = [len(os.listdir(subdir)) for subdir in subdirs]\n",
        "    total_images = sum(image_counts)\n",
        "    ratios = [count / total_images for count in image_counts]\n",
        "    n_images_per_subdir = [int(ratio * n_images) for ratio in ratios]\n",
        "    \n",
        "    for i, subdir in enumerate(subdirs):\n",
        "        images = os.listdir(subdir)\n",
        "        selected_images = random.sample(images, n_images_per_subdir[i])\n",
        "        subdir_output_path = os.path.join(output_dir, os.path.basename(subdir))\n",
        "        os.makedirs(subdir_output_path, exist_ok=True)\n",
        "        for image in selected_images:\n",
        "            image_path = os.path.join(subdir, image)\n",
        "            img = cv2.imread(image_path)\n",
        "            square_img = square_format_image(img, size)\n",
        "            cv2.imwrite(os.path.join(subdir_output_path, \"square_\" + image),square_img)\n",
        "            #shutil.copy(image_path, subdir_output_path)\n",
        "            \n"
      ],
      "metadata": {
        "colab": {
          "base_uri": "https://localhost:8080/"
        },
        "id": "EUCKycLKQ8Vk",
        "outputId": "f5b0d08f-43d8-4124-dba8-7a924e56ad92"
      },
      "execution_count": null,
      "outputs": [
        {
          "output_type": "stream",
          "name": "stdout",
          "text": [
            "/content/root/2 /content/output/2\n",
            "/content/root/3 /content/output/3\n",
            "/content/root/1 /content/output/1\n"
          ]
        }
      ]
    },
    {
      "cell_type": "code",
      "source": [
        "# test square_format_image\n",
        "from matplotlib import pyplot as plt\n",
        "import cv2\n",
        "import numpy as np\n",
        "\n",
        "image_path = \"./Image-33.png\"\n",
        "size = 620\n",
        "img = cv2.imread(image_path)\n",
        "plt.imshow(img)\n",
        "square_img = square_format_image(img, size)\n",
        "plt.imshow(square_img)"
      ],
      "metadata": {
        "id": "Y-2LUIQzKZG1"
      },
      "execution_count": null,
      "outputs": []
    },
    {
      "cell_type": "code",
      "source": [
        "root_input_dir=\"./root_input_dir\"\n",
        "root_output_dir=\"./root_output_dir\"\n",
        "copy_images(root_input_dir, root_output_dir, 1000, 620)"
      ],
      "metadata": {
        "id": "AmKWdZuRKceu"
      },
      "execution_count": null,
      "outputs": []
    }
  ]
}